{
  "nbformat": 4,
  "nbformat_minor": 0,
  "metadata": {
    "kernelspec": {
      "display_name": "Python 3",
      "language": "python",
      "name": "python3"
    },
    "language_info": {
      "codemirror_mode": {
        "name": "ipython",
        "version": 3
      },
      "file_extension": ".py",
      "mimetype": "text/x-python",
      "name": "python",
      "nbconvert_exporter": "python",
      "pygments_lexer": "ipython3",
      "version": "3.6.5"
    },
    "colab": {
      "provenance": [],
      "include_colab_link": true
    }
  },
  "cells": [
    {
      "cell_type": "markdown",
      "metadata": {
        "id": "view-in-github",
        "colab_type": "text"
      },
      "source": [
        "<a href=\"https://colab.research.google.com/github/Daniel-MDA/Data-Analysis-with-Python-Pandas/blob/main/Regressao_Linear.ipynb\" target=\"_parent\"><img src=\"https://colab.research.google.com/assets/colab-badge.svg\" alt=\"Open In Colab\"/></a>"
      ]
    },
    {
      "cell_type": "markdown",
      "metadata": {
        "id": "gkOlO6XIE0pA"
      },
      "source": [
        "## Lab04_Regressao_Linear_01\n",
        "\n",
        "### Disciplina Inteligência Artificial\n",
        "\n",
        "### Prof: José Humberto Cruvinel\n",
        "\n",
        "### Nome dos alunos:\n",
        "\n",
        "* Daniel Moacir de Ávila\n",
        "\n",
        "Neste jupyter vamos criar um modelo de regressão linear para estimar a probabilidade de admissões de pós-graduação.\n",
        "\n",
        "Para correto funcionamento, crie no seu drive a pasta **arquivos_colab/Lab04** e copie para esta pasta o arquivo Admission_Predict_Ver1.1.csv que está em https://drive.google.com/drive/folders/10Lgd1c5q8SG0zN5nHG-XPQauwUHJOUW6?usp=sharing\n",
        "\n",
        "Dataset: https://www.kaggle.com/mohansacharya/graduate-admissions\n",
        "\n",
        "O conjunto de dados contém vários parâmetros que são considerados importantes durante a aplicação de programas de mestrado. Os parâmetros incluídos são:\n",
        "\n",
        "* Pontuações GRE (de 340)\n",
        "* Pontuações do TOEFL (de 120)\n",
        "* Classificação da universidade (em 5)\n",
        "* Declaração de finalidade e força da carta de recomendação (em 5)\n",
        "* Graduação GPA (de 10)\n",
        "* Experiência de pesquisa (0 ou 1)\n",
        "* Chance de admissão (variando de 0 a 1) - TARGET\n",
        "\n",
        "Este jupyter notebook deve ser executado no Google Colab (https://colab.research.google.com/) "
      ]
    },
    {
      "cell_type": "markdown",
      "metadata": {
        "id": "xl2EsGZC3hCL"
      },
      "source": [
        "## Montando o Drive"
      ]
    },
    {
      "cell_type": "code",
      "metadata": {
        "id": "OMd95IZXWLc6"
      },
      "source": [
        "# Execute esta célula para montar o Google Drive\n",
        "from google.colab import drive\n",
        "drive.mount('/content/drive')"
      ],
      "execution_count": null,
      "outputs": []
    },
    {
      "cell_type": "code",
      "metadata": {
        "id": "ATxhAUKpWguP"
      },
      "source": [
        "%cd drive/MyDrive/arquivos_colab/Lab04"
      ],
      "execution_count": null,
      "outputs": []
    },
    {
      "cell_type": "code",
      "metadata": {
        "id": "LTG3IPv0WUxW"
      },
      "source": [
        "%ls -la"
      ],
      "execution_count": null,
      "outputs": []
    },
    {
      "cell_type": "markdown",
      "metadata": {
        "id": "V-v9LUKUb7qC"
      },
      "source": [
        "## Carregando o dataset"
      ]
    },
    {
      "cell_type": "code",
      "metadata": {
        "id": "H7vEcHx_WxTG"
      },
      "source": [
        "# Carregando Bibliotecas Python\n",
        "import numpy as np\n",
        "import pandas as pd\n",
        "import matplotlib.pyplot as plt\n",
        "import matplotlib as mpl\n",
        "%matplotlib inline "
      ],
      "execution_count": null,
      "outputs": []
    },
    {
      "cell_type": "code",
      "metadata": {
        "id": "M_xElfg0E0pB"
      },
      "source": [
        "# Carregando o Dataset Admission_Predict_Ver1.1.csv com o pacote Pandas, criando o DataFrame df\n",
        "df = pd.read_csv(\"Admission_Predict_Ver1.1.csv\")\n",
        "df.head()"
      ],
      "execution_count": null,
      "outputs": []
    },
    {
      "cell_type": "code",
      "metadata": {
        "id": "aSj91w29W2GX"
      },
      "source": [
        "# Verificando os últimos registros do dataset\n",
        "df.tail()"
      ],
      "execution_count": null,
      "outputs": []
    },
    {
      "cell_type": "markdown",
      "metadata": {
        "id": "uMUN-JplXLUw"
      },
      "source": [
        "Veja acima que a primeira coluna (Serial No.) podemos ignorar, pois é apenas uma chave e que não afeta a chance de admissão"
      ]
    },
    {
      "cell_type": "code",
      "metadata": {
        "id": "KtfiL_xcXKk6"
      },
      "source": [
        "# Ignorando a primeia linha\n",
        "df = df.iloc[:,1:]\n",
        "df.head()"
      ],
      "execution_count": null,
      "outputs": []
    },
    {
      "cell_type": "markdown",
      "metadata": {
        "id": "tc73QpHgXm7p"
      },
      "source": [
        "Veja acima que a primeira coluna foi removida"
      ]
    },
    {
      "cell_type": "code",
      "metadata": {
        "id": "-fYsZWBKXhK3"
      },
      "source": [
        "# Vamos verificar se existem valores nulos\n",
        "df.isna().sum()"
      ],
      "execution_count": null,
      "outputs": []
    },
    {
      "cell_type": "markdown",
      "metadata": {
        "id": "ZPitc7O1Xqaf"
      },
      "source": [
        "Veja acima que não temos nenhum valor nulo"
      ]
    },
    {
      "cell_type": "code",
      "metadata": {
        "id": "fhhtfhmhW6y5"
      },
      "source": [
        "# Imprimindo o describe()\n",
        "df.describe()"
      ],
      "execution_count": null,
      "outputs": []
    },
    {
      "cell_type": "markdown",
      "metadata": {
        "id": "r1qvJRFLXyjP"
      },
      "source": [
        "Como pode ser visto acima, temos 500 exemplos"
      ]
    },
    {
      "cell_type": "code",
      "metadata": {
        "id": "xv8RlUFBYwYk"
      },
      "source": [
        "# Vamos verificar o nome das colunas\n",
        "df.columns"
      ],
      "execution_count": null,
      "outputs": []
    },
    {
      "cell_type": "code",
      "metadata": {
        "id": "yFKSUE5VY3Y1"
      },
      "source": [
        "# Vamos renomear as colunas para remover espaços\n",
        "df.columns = ['GRE_Score', 'TOEFL_Score', 'University_Rating', 'SOP', 'LOR', 'CGPA', 'Research', 'Chance_of_Admit']\n",
        "df.head()"
      ],
      "execution_count": null,
      "outputs": []
    },
    {
      "cell_type": "code",
      "metadata": {
        "id": "DjibnqOWW-_f"
      },
      "source": [
        "# Vamos ver o Shape dos dados\n",
        "print('Shape:',df.shape)"
      ],
      "execution_count": null,
      "outputs": []
    },
    {
      "cell_type": "markdown",
      "metadata": {
        "id": "Ll_2OraUX9L_"
      },
      "source": [
        "Temos aqui 500 linhas com 8 colunas, entretanto a última coluna é a coluna TARGET (ALVO)"
      ]
    },
    {
      "cell_type": "markdown",
      "metadata": {
        "id": "Zu2NE1nJcBHk"
      },
      "source": [
        "## Explorando o Dataset"
      ]
    },
    {
      "cell_type": "code",
      "metadata": {
        "id": "89ODcMlkE0pV"
      },
      "source": [
        "# Vamos explorar os dados de resultado\n",
        "# Calculando a média da variável target\n",
        "media_esperada = df['Chance_of_Admit'].mean()\n",
        "media_esperada"
      ],
      "execution_count": null,
      "outputs": []
    },
    {
      "cell_type": "code",
      "metadata": {
        "id": "xVEL-hgaE0pb"
      },
      "source": [
        "# Histograma do target\n",
        "df.hist(column='Chance_of_Admit')"
      ],
      "execution_count": null,
      "outputs": []
    },
    {
      "cell_type": "code",
      "metadata": {
        "id": "Zw38DnySE0pf"
      },
      "source": [
        "# Vamos plotar o DataFrame para ver se encontramos alguma correlação entre as variáveis que determinam o resultado\n",
        "df.plot()"
      ],
      "execution_count": null,
      "outputs": []
    },
    {
      "cell_type": "markdown",
      "metadata": {
        "id": "aIfXziicE0pk"
      },
      "source": [
        "Não foi possível encontrar uma relação. Vamos tentar de outra forma"
      ]
    },
    {
      "cell_type": "code",
      "metadata": {
        "id": "Vg3Wk1XlZkCv"
      },
      "source": [
        "# Criando uma função para plotar a correlação entre as variáveis\n",
        "def visualize_correlation_matrix(data, hurdle = 0.0):\n",
        "    R = np.corrcoef(data, rowvar = 0)\n",
        "    R[np.where(np.abs(R) < hurdle)] = 0.0\n",
        "    heatmap = plt.pcolor(R, cmap = mpl.cm.coolwarm, alpha = 0.8)\n",
        "    heatmap.axes.set_frame_on(False)\n",
        "    heatmap.axes.set_yticks(np.arange(R.shape[0]) + 0.5, minor = False)\n",
        "    heatmap.axes.set_xticks(np.arange(R.shape[1]) + 0.5, minor = False)\n",
        "    heatmap.axes.set_xticklabels(variables, minor = False)\n",
        "    plt.xticks(rotation=90)\n",
        "    heatmap.axes.set_yticklabels(variables, minor = False)\n",
        "    plt.tick_params(axis = 'both', which = 'both', bottom = False, top = False, left = False, right = False) \n",
        "    plt.colorbar()\n",
        "    plt.show()"
      ],
      "execution_count": null,
      "outputs": []
    },
    {
      "cell_type": "code",
      "metadata": {
        "id": "ZSd_DPLUZj57"
      },
      "source": [
        "# Vamos gerar a matriz de correlação entre as variáveis\n",
        "matriz_corr = df.corr()\n",
        "observations = len(df)\n",
        "variables = df.columns\n",
        "visualize_correlation_matrix(df, hurdle = 0.5)"
      ],
      "execution_count": null,
      "outputs": []
    },
    {
      "cell_type": "markdown",
      "metadata": {
        "id": "voNqJitpZ99R"
      },
      "source": [
        "Veja que as variáveis CGPA, GRE_Score e TOEFL_Score tem maior influência em Chance_of_Admit"
      ]
    },
    {
      "cell_type": "code",
      "metadata": {
        "id": "uLevJYH7aW7j"
      },
      "source": [
        "# Vamos separar as variáveis (X) do resultado (y)\n",
        "X = df.iloc[:,:-1]\n",
        "y = df['Chance_of_Admit'].values"
      ],
      "execution_count": null,
      "outputs": []
    },
    {
      "cell_type": "code",
      "metadata": {
        "id": "JyljRYozbK6z"
      },
      "source": [
        "# Imprimindo os primeiros valores de X\n",
        "X.head()"
      ],
      "execution_count": null,
      "outputs": []
    },
    {
      "cell_type": "code",
      "metadata": {
        "id": "6-uq96WdbNBC"
      },
      "source": [
        "# Imprimindo os 10 primeiros valores de y\n",
        "print(y[:10])"
      ],
      "execution_count": null,
      "outputs": []
    },
    {
      "cell_type": "code",
      "metadata": {
        "id": "1no2P8hPcqM6"
      },
      "source": [
        "# Imprimindo o Shape de X e y\n",
        "print(X.shape)\n",
        "print(y.shape)"
      ],
      "execution_count": null,
      "outputs": []
    },
    {
      "cell_type": "code",
      "metadata": {
        "id": "EQtFAcTtZ9bi"
      },
      "source": [
        "# Vamos agora calcular a covariância entre as variáveis\n",
        "import statsmodels.regression.linear_model as sm\n",
        "modelo_v1 = sm.OLS(y, X)\n",
        "modelo_v2 = modelo_v1.fit()\n",
        "modelo_v2.summary()"
      ],
      "execution_count": null,
      "outputs": []
    },
    {
      "cell_type": "markdown",
      "metadata": {
        "id": "kXXXcv2xapth"
      },
      "source": [
        "Explicação dos dados acima:\n",
        "\n",
        "* std err: O erro padrão básico da estimativa do coeficiente. \n",
        "* t: O valor da estatística t. Esta é uma medida de quão estatisticamente significativo é o coeficiente.\n",
        "* P> | t |: P-valor de que a hipótese nula de que o coeficiente = 0 é verdadeira. Se for menor que o nível de confiança, geralmente 0,05, indica que há uma relação estatisticamente significativa entre o termo e a resposta."
      ]
    },
    {
      "cell_type": "markdown",
      "metadata": {
        "id": "2V6MZUEybn2S"
      },
      "source": [
        "Podemos ver que CGPA é muito significativo"
      ]
    },
    {
      "cell_type": "markdown",
      "metadata": {
        "id": "ITjytDojcExC"
      },
      "source": [
        "## Regressão Linear com 1 variável"
      ]
    },
    {
      "cell_type": "code",
      "metadata": {
        "id": "x6jAeJ_2ZkFp"
      },
      "source": [
        "# Vamos agora imprimir um scatter plot entre CGPA e o resultado (target)\n",
        "# Definindo o range dos valores de x e y\n",
        "VAR = 'CGPA'\n",
        "TARGET = 'Chance_of_Admit'\n",
        "x_range = [df[VAR].min(), df[VAR].max()]\n",
        "y_range = [df[TARGET].min(), df[TARGET].max()]\n",
        "# Plot dos valores de x e y com a média\n",
        "scatter_plot = df.plot(kind = 'scatter', x = VAR, y = TARGET, xlim = x_range, ylim = y_range)"
      ],
      "execution_count": null,
      "outputs": []
    },
    {
      "cell_type": "code",
      "metadata": {
        "id": "lblWok0eBoAv"
      },
      "source": [
        "X[VAR].values.shape"
      ],
      "execution_count": null,
      "outputs": []
    },
    {
      "cell_type": "code",
      "metadata": {
        "id": "o9R5er96wTXO"
      },
      "source": [
        "# Separando apenas a variável de interesse e fazendo o reshape\n",
        "X_1 = X[VAR].values.reshape((len(df), 1))\n",
        "print(X_1.shape)"
      ],
      "execution_count": null,
      "outputs": []
    },
    {
      "cell_type": "code",
      "metadata": {
        "id": "l8d7UzjTZkIt"
      },
      "source": [
        "# Separação entre os dados de treino e teste\n",
        "from sklearn.model_selection import train_test_split\n",
        "X_train, X_test, y_train, y_test = train_test_split (X_1 , y, test_size=0.2, random_state=50)\n",
        "print('X_train:',X_train.shape)\n",
        "print('y_train:',y_train.shape)\n",
        "print('X_test:',X_test.shape)\n",
        "print('y_test:',y_test.shape)"
      ],
      "execution_count": null,
      "outputs": []
    },
    {
      "cell_type": "code",
      "metadata": {
        "id": "lisRbRWsZkLt"
      },
      "source": [
        "# Linear Regression\n",
        "from sklearn.linear_model import LinearRegression\n",
        "lin_reg = LinearRegression()\n",
        "# Agora efetivamente treinamos o modelo com fit()\n",
        "lin_reg.fit(X_train, y_train)"
      ],
      "execution_count": null,
      "outputs": []
    },
    {
      "cell_type": "code",
      "metadata": {
        "id": "xeoT6MQvE0pl"
      },
      "source": [
        "# prevendo valores para X_test\n",
        "y_pred = lin_reg.predict(X_test)\n",
        "print('Shape y_pred:',y_pred.shape)"
      ],
      "execution_count": null,
      "outputs": []
    },
    {
      "cell_type": "code",
      "metadata": {
        "id": "lP6ykfZsenmG"
      },
      "source": [
        "# Medidas de desempenho\n",
        "from sklearn.metrics import mean_squared_error,mean_absolute_error,r2_score\n",
        "print(\"Mean Squared Error (MSE):\",mean_squared_error(y_pred,y_test))\n",
        "print(\"Mean Absolute Error (MAE):\",mean_absolute_error(y_pred,y_test))\n",
        "print(\"Score R2:\",r2_score(y_pred,y_test))\n",
        "print('Score:',lin_reg.score(X_test, y_test))"
      ],
      "execution_count": null,
      "outputs": []
    },
    {
      "cell_type": "code",
      "metadata": {
        "id": "a4w3dZvzfWlR"
      },
      "source": [
        "# Plotando a linha de regressão para todos os dados\n",
        "\n",
        "# Prevendo os valores de y para todos os dados\n",
        "y_pred_all = lin_reg.predict(X_1)\n",
        "\n",
        "# Primeira camada do Scatter Plot\n",
        "scatter_plot = df.plot(kind = 'scatter', x = VAR, y = TARGET, xlim = x_range, ylim = y_range)\n",
        "\n",
        "# Segunda camada do Scatter Plot (linha de regressão)\n",
        "regression_line = scatter_plot.plot(df[VAR], y_pred_all, 'o', color = 'orange', linewidth = 2)"
      ],
      "execution_count": null,
      "outputs": []
    },
    {
      "cell_type": "markdown",
      "metadata": {
        "id": "CCdnmIW3fGH-"
      },
      "source": [
        "## Regressão Linear com mais variáveis"
      ]
    },
    {
      "cell_type": "code",
      "metadata": {
        "id": "vlCrqj1Nentt"
      },
      "source": [
        "# Vamos utilizar 3 variáveis\n",
        "VAR = ['CGPA', 'GRE_Score', 'TOEFL_Score']\n",
        "X_2 = X[VAR].values.reshape((len(df), 3))\n",
        "print(X_2.shape)"
      ],
      "execution_count": null,
      "outputs": []
    },
    {
      "cell_type": "code",
      "metadata": {
        "id": "__k7flu7enzQ"
      },
      "source": [
        "# Separação entre os dados de treino e teste\n",
        "from sklearn.model_selection import train_test_split\n",
        "X_train, X_test, y_train, y_test = train_test_split (X_2 , y, test_size=0.2, random_state=50)\n",
        "print('X_train:',X_train.shape)\n",
        "print('y_train:',y_train.shape)\n",
        "print('X_test:',X_test.shape)\n",
        "print('y_test:',y_test.shape)"
      ],
      "execution_count": null,
      "outputs": []
    },
    {
      "cell_type": "code",
      "metadata": {
        "id": "ds8JQcvdenxS"
      },
      "source": [
        "# Linear Regression\n",
        "from sklearn.linear_model import LinearRegression\n",
        "lin_reg = LinearRegression()\n",
        "lin_reg.fit(X_train, y_train)\n",
        "# prevendo valores para X_test\n",
        "y_pred = lin_reg.predict(X_test)\n",
        "print('Shape y_pred:',y_pred.shape)"
      ],
      "execution_count": null,
      "outputs": []
    },
    {
      "cell_type": "code",
      "metadata": {
        "id": "wk_FSve2enro"
      },
      "source": [
        "# Medidas de desempenho\n",
        "from sklearn.metrics import mean_squared_error,mean_absolute_error,r2_score\n",
        "print(\"Mean Squared Error (MSE):\",mean_squared_error(y_pred,y_test))\n",
        "print(\"Mean Absolute Error (MAE):\",mean_absolute_error(y_pred,y_test))\n",
        "print(\"Score R2:\",r2_score(y_pred,y_test))\n",
        "print('Score:',lin_reg.score(X_test, y_test))"
      ],
      "execution_count": null,
      "outputs": []
    },
    {
      "cell_type": "markdown",
      "metadata": {
        "id": "hoyN0H3zzMje"
      },
      "source": [
        "Veja que o uso de mais variáveis melhorou o modelo, pois o valor de R2 aumentou e os erros médios diminuíram. "
      ]
    },
    {
      "cell_type": "markdown",
      "metadata": {
        "id": "xCIm7dpRyTZP"
      },
      "source": [
        "# Exercício (Lab04)\n",
        "\n",
        "Você viu acima que o uso de mais variáveis na regressão linear melhorou o modelo.\n",
        "\n",
        "Adicione novas células de código abaixo e implemente um modelo de Regressão Linear que utilize todas as variáveis do dataset para prever a variável TARGET.\n",
        "\n",
        "Crie também uma célula de código para imprimir os valores de MSE, MAE e R2\n",
        "\n",
        "Finalmente, crie uma célula de Texto para responder se o resultado foi melhor ou pior.\n",
        "\n",
        "Obs: Antes de entregar seu notebook, verifique se o mesmo está funcionando adequadamente com o menu \"Ambiente de Execução > Reiniciar e executar tudo\".\n",
        "\n",
        "Salve o arquivo .ipynb com a opção \"Arquivo > Fazer download do .ipynb\" e poste pelo Ulife"
      ]
    },
    {
      "cell_type": "markdown",
      "metadata": {
        "id": "zC7ziscPE0qi"
      },
      "source": [
        "FIM"
      ]
    }
  ]
}